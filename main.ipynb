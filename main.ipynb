{
 "cells": [
  {
   "cell_type": "code",
   "execution_count": 1,
   "id": "02db66ca-9ea9-44df-a4b8-b5d45f1d5e39",
   "metadata": {},
   "outputs": [],
   "source": [
    "import chemin\n",
    "#affichage chemin le plus court etages\n",
    "from tkinter import *\n",
    "from tkinter.messagebox import *\n",
    "from tkinter.filedialog import *\n",
    "import tkinter.font as tkFont\n",
    "import math\n",
    "fenetre = Tk()                             \n",
    "fenetre.title(\"test segment\")\n",
    "fenetre.geometry(\"1000x600\")\n",
    "frameExp = Frame(master=fenetre,width = 1000, height = 600)\n",
    "frameExp.pack()\n",
    "CanvasExp = Canvas(frameExp,width = 1000, height = 600 ,  bg=\"white\")\n",
    "CanvasExp.pack()\n",
    "#taille max etage : X*Y : 200*300\n",
    "nb_etage = 3\n",
    "taille_max = (200,300)\n",
    "taille_fenetre = (1000,600)\n",
    "#detaille immeuble\n",
    "forme_etage=[(5,5),(190,5),(190,290),(5,290)]\n",
    "liste_escalier_descendant = [[(95,5)],[(5,145),(190,145)],[(190,270),(95,5)]]\n",
    "liste_obstacle = [[[(45,33),(137,33),(95,122)]],[[(112,205),(112,58),(157,58),(157,205)],[(37,161),(4,113),(37,113)]],[[(45,33),(137,33),(95,122)],[(45,160),(137,160),(190,240)]]]\n"
   ]
  },
  {
   "cell_type": "code",
   "execution_count": null,
   "id": "dae2f13b-66a5-4753-a2e2-60e5abdf1957",
   "metadata": {},
   "outputs": [],
   "source": []
  }
 ],
 "metadata": {
  "kernelspec": {
   "display_name": "Python 3",
   "language": "python",
   "name": "python3"
  },
  "language_info": {
   "codemirror_mode": {
    "name": "ipython",
    "version": 3
   },
   "file_extension": ".py",
   "mimetype": "text/x-python",
   "name": "python",
   "nbconvert_exporter": "python",
   "pygments_lexer": "ipython3",
   "version": "3.8.5"
  }
 },
 "nbformat": 4,
 "nbformat_minor": 5
}
